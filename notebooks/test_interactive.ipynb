{
 "cells": [
  {
   "cell_type": "markdown",
   "id": "b3725a52",
   "metadata": {},
   "source": [
    "Test to check if CUDA is available"
   ]
  },
  {
   "cell_type": "code",
   "execution_count": 1,
   "id": "a50ffab4",
   "metadata": {},
   "outputs": [
    {
     "name": "stdout",
     "output_type": "stream",
     "text": [
      "Python Version: 3.8.10 (default, Sep 28 2021, 16:10:42) \n",
      "[GCC 9.3.0]\n",
      "PyTorch Version: 1.13.0+cu117\n",
      "CUDA Available: True\n",
      "CUDA Version (from PyTorch): 11.7\n",
      "cuDNN Version: 8500\n",
      "cuDNN Enabled: True\n",
      "Number of GPUs: 1\n",
      "GPU 0: NVIDIA TITAN X (Pascal)\n",
      "  Compute Capability: (6, 1)\n",
      "  Memory Allocated: 0.00 MB\n",
      "  Memory Cached: 0.00 MB\n"
     ]
    }
   ],
   "source": [
    "import torch\n",
    "import sys\n",
    "\n",
    "print(f\"Python Version: {sys.version}\")\n",
    "print(f\"PyTorch Version: {torch.__version__}\")\n",
    "\n",
    "cuda_available = torch.cuda.is_available()\n",
    "print(f\"CUDA Available: {cuda_available}\")\n",
    "\n",
    "if cuda_available:\n",
    "    print(f\"CUDA Version (from PyTorch): {torch.version.cuda}\")\n",
    "    print(f\"cuDNN Version: {torch.backends.cudnn.version()}\")\n",
    "    print(f\"cuDNN Enabled: {torch.backends.cudnn.enabled}\")\n",
    "    print(f\"Number of GPUs: {torch.cuda.device_count()}\")\n",
    "    \n",
    "    for i in range(torch.cuda.device_count()):\n",
    "        print(f\"GPU {i}: {torch.cuda.get_device_name(i)}\")\n",
    "        print(f\"  Compute Capability: {torch.cuda.get_device_capability(i)}\")\n",
    "        print(f\"  Memory Allocated: {torch.cuda.memory_allocated(i) / 1e6:.2f} MB\")\n",
    "        print(f\"  Memory Cached: {torch.cuda.memory_reserved(i) / 1e6:.2f} MB\")\n",
    "else:\n",
    "    print(\"CUDA is not available. Check your installation.\")\n"
   ]
  },
  {
   "cell_type": "code",
   "execution_count": 2,
   "id": "6ee0f732",
   "metadata": {},
   "outputs": [
    {
     "name": "stdout",
     "output_type": "stream",
     "text": [
      "Defaulting to user installation because normal site-packages is not writeable\n",
      "Collecting optuna\n",
      "  Downloading optuna-4.2.1-py3-none-any.whl (383 kB)\n",
      "\u001b[2K     \u001b[38;2;114;156;31m━━━━━━━━━━━━━━━━━━━━━━━━━━━━━━━━━━━━━━━\u001b[0m \u001b[32m383.6/383.6 kB\u001b[0m \u001b[31m8.2 MB/s\u001b[0m eta \u001b[36m0:00:00\u001b[0m MB/s\u001b[0m eta \u001b[36m0:00:01\u001b[0m\n",
      "\u001b[?25hRequirement already satisfied: PyYAML in /usr/local/lib/python3.8/dist-packages (from optuna) (3.13)\n",
      "Collecting colorlog\n",
      "  Downloading colorlog-6.9.0-py3-none-any.whl (11 kB)\n",
      "Collecting sqlalchemy>=1.4.2\n",
      "  Downloading SQLAlchemy-2.0.38-cp38-cp38-manylinux_2_17_x86_64.manylinux2014_x86_64.whl (3.1 MB)\n",
      "\u001b[2K     \u001b[38;2;114;156;31m━━━━━━━━━━━━━━━━━━━━━━━━━━━━━━━━━━━━━━━━\u001b[0m \u001b[32m3.1/3.1 MB\u001b[0m \u001b[31m51.6 MB/s\u001b[0m eta \u001b[36m0:00:00\u001b[0m31m66.8 MB/s\u001b[0m eta \u001b[36m0:00:01\u001b[0m\n",
      "\u001b[?25hRequirement already satisfied: packaging>=20.0 in /usr/local/lib/python3.8/dist-packages (from optuna) (21.2)\n",
      "Requirement already satisfied: tqdm in /home/users/e/elbazma1/.local/lib/python3.8/site-packages (from optuna) (4.64.1)\n",
      "Requirement already satisfied: numpy in /usr/local/lib/python3.8/dist-packages (from optuna) (1.21.3)\n",
      "Collecting alembic>=1.5.0\n",
      "  Downloading alembic-1.14.1-py3-none-any.whl (233 kB)\n",
      "\u001b[2K     \u001b[38;2;114;156;31m━━━━━━━━━━━━━━━━━━━━━━━━━━━━━━━━━━━━━━\u001b[0m \u001b[32m233.6/233.6 kB\u001b[0m \u001b[31m10.5 MB/s\u001b[0m eta \u001b[36m0:00:00\u001b[0m\n",
      "\u001b[?25hCollecting Mako\n",
      "  Downloading Mako-1.3.9-py3-none-any.whl (78 kB)\n",
      "\u001b[2K     \u001b[38;2;114;156;31m━━━━━━━━━━━━━━━━━━━━━━━━━━━━━━━━━━━━━━━━\u001b[0m \u001b[32m78.5/78.5 kB\u001b[0m \u001b[31m5.0 MB/s\u001b[0m eta \u001b[36m0:00:00\u001b[0m\n",
      "\u001b[?25hCollecting importlib-metadata\n",
      "  Downloading importlib_metadata-8.5.0-py3-none-any.whl (26 kB)\n",
      "Collecting typing-extensions>=4\n",
      "  Downloading typing_extensions-4.12.2-py3-none-any.whl (37 kB)\n",
      "Requirement already satisfied: importlib-resources in /usr/local/lib/python3.8/dist-packages (from alembic>=1.5.0->optuna) (5.4.0)\n",
      "Requirement already satisfied: pyparsing<3,>=2.0.2 in /usr/local/lib/python3.8/dist-packages (from packaging>=20.0->optuna) (2.4.7)\n",
      "Collecting greenlet!=0.4.17\n",
      "  Downloading greenlet-3.1.1-cp38-cp38-manylinux_2_24_x86_64.manylinux_2_28_x86_64.whl (605 kB)\n",
      "\u001b[2K     \u001b[38;2;114;156;31m━━━━━━━━━━━━━━━━━━━━━━━━━━━━━━━━━━━━━━\u001b[0m \u001b[32m606.0/606.0 kB\u001b[0m \u001b[31m51.0 MB/s\u001b[0m eta \u001b[36m0:00:00\u001b[0m\n",
      "\u001b[?25hCollecting zipp>=3.20\n",
      "  Downloading zipp-3.20.2-py3-none-any.whl (9.2 kB)\n",
      "Requirement already satisfied: MarkupSafe>=0.9.2 in /usr/local/lib/python3.8/dist-packages (from Mako->alembic>=1.5.0->optuna) (2.0.1)\n",
      "Installing collected packages: zipp, typing-extensions, Mako, greenlet, colorlog, sqlalchemy, importlib-metadata, alembic, optuna\n",
      "\u001b[33m  WARNING: The script mako-render is installed in '/home/users/e/elbazma1/.local/bin' which is not on PATH.\n",
      "  Consider adding this directory to PATH or, if you prefer to suppress this warning, use --no-warn-script-location.\u001b[0m\u001b[33m\n",
      "\u001b[0m\u001b[33m  WARNING: The script alembic is installed in '/home/users/e/elbazma1/.local/bin' which is not on PATH.\n",
      "  Consider adding this directory to PATH or, if you prefer to suppress this warning, use --no-warn-script-location.\u001b[0m\u001b[33m\n",
      "\u001b[0m\u001b[33m  WARNING: The script optuna is installed in '/home/users/e/elbazma1/.local/bin' which is not on PATH.\n",
      "  Consider adding this directory to PATH or, if you prefer to suppress this warning, use --no-warn-script-location.\u001b[0m\u001b[33m\n",
      "\u001b[0m\u001b[31mERROR: pip's dependency resolver does not currently take into account all the packages that are installed. This behaviour is the source of the following dependency conflicts.\n",
      "torch 1.13.0 requires nvidia-cublas-cu11==11.10.3.66, which is not installed.\u001b[0m\u001b[31m\n",
      "\u001b[0mSuccessfully installed Mako-1.3.9 alembic-1.14.1 colorlog-6.9.0 greenlet-3.1.1 importlib-metadata-8.5.0 optuna-4.2.1 sqlalchemy-2.0.38 typing-extensions-4.12.2 zipp-3.20.2\n",
      "\n",
      "\u001b[1m[\u001b[0m\u001b[34;49mnotice\u001b[0m\u001b[1;39;49m]\u001b[0m\u001b[39;49m A new release of pip available: \u001b[0m\u001b[31;49m22.3.1\u001b[0m\u001b[39;49m -> \u001b[0m\u001b[32;49m25.0.1\u001b[0m\n",
      "\u001b[1m[\u001b[0m\u001b[34;49mnotice\u001b[0m\u001b[1;39;49m]\u001b[0m\u001b[39;49m To update, run: \u001b[0m\u001b[32;49mpython3 -m pip install --upgrade pip\u001b[0m\n",
      "Note: you may need to restart the kernel to use updated packages.\n"
     ]
    }
   ],
   "source": [
    "!pip install optuna"
   ]
  },
  {
   "cell_type": "code",
   "execution_count": 4,
   "id": "cac3ac7e",
   "metadata": {},
   "outputs": [],
   "source": [
    "import sys\n",
    "sys.path.append(r'../../utils/optuna')\n",
    "import optuna"
   ]
  },
  {
   "cell_type": "code",
   "execution_count": 3,
   "id": "2ef15a8a",
   "metadata": {},
   "outputs": [],
   "source": [
    "import sys\n",
    "sys.path.append(r'../../utils/normalizing-flows')\n",
    "sys.path.append(r'../../utils/optuna')\n",
    "import torch\n",
    "import numpy as np\n",
    "import os\n",
    "os.system('pip install github optunahub cmaes')\n",
    "import argparse\n",
    "import matplotlib.pyplot as plt\n",
    "import seaborn as sns\n",
    "import normflows as nf\n",
    "import optuna\n",
    "import optunahub"
   ]
  },
  {
   "cell_type": "code",
   "execution_count": 4,
   "id": "51d8a023",
   "metadata": {},
   "outputs": [
    {
     "name": "stderr",
     "output_type": "stream",
     "text": [
      "[I 2025-02-28 13:34:55,577] A new study created in memory with name: no-name-b186b619-ae9b-4208-bd68-2bc20a9aca94\n",
      "[I 2025-02-28 13:34:55,579] Trial 0 finished with value: 0.0 and parameters: {}. Best is trial 0 with value: 0.0.\n",
      "/home/users/e/elbazma1/.cache/optunahub/api.github.com/optuna/optunahub-registry/main/package/samplers/auto_sampler/_sampler.py:184: ExperimentalWarning: GPSampler is experimental (supported from v3.6.0). The interface can change in the future.\n",
      "  return GPSampler(seed=seed)\n",
      "[I 2025-02-28 13:34:55,609] Trial 1 finished with value: 0.0 and parameters: {}. Best is trial 0 with value: 0.0.\n",
      "[I 2025-02-28 13:34:55,611] Trial 2 finished with value: 0.0 and parameters: {}. Best is trial 0 with value: 0.0.\n",
      "[I 2025-02-28 13:34:55,613] Trial 3 finished with value: 0.0 and parameters: {}. Best is trial 0 with value: 0.0.\n",
      "[I 2025-02-28 13:34:55,614] Trial 4 finished with value: 0.0 and parameters: {}. Best is trial 0 with value: 0.0.\n",
      "[I 2025-02-28 13:34:55,616] Trial 5 finished with value: 0.0 and parameters: {}. Best is trial 0 with value: 0.0.\n",
      "[I 2025-02-28 13:34:55,617] Trial 6 finished with value: 0.0 and parameters: {}. Best is trial 0 with value: 0.0.\n",
      "[I 2025-02-28 13:34:55,619] Trial 7 finished with value: 0.0 and parameters: {}. Best is trial 0 with value: 0.0.\n",
      "[I 2025-02-28 13:34:55,621] Trial 8 finished with value: 0.0 and parameters: {}. Best is trial 0 with value: 0.0.\n",
      "[I 2025-02-28 13:34:55,622] Trial 9 finished with value: 0.0 and parameters: {}. Best is trial 0 with value: 0.0.\n",
      "[I 2025-02-28 13:34:55,624] Trial 10 finished with value: 0.0 and parameters: {}. Best is trial 0 with value: 0.0.\n",
      "[I 2025-02-28 13:34:55,625] Trial 11 finished with value: 0.0 and parameters: {}. Best is trial 0 with value: 0.0.\n",
      "[I 2025-02-28 13:34:55,627] Trial 12 finished with value: 0.0 and parameters: {}. Best is trial 0 with value: 0.0.\n",
      "[I 2025-02-28 13:34:55,628] Trial 13 finished with value: 0.0 and parameters: {}. Best is trial 0 with value: 0.0.\n",
      "[I 2025-02-28 13:34:55,630] Trial 14 finished with value: 0.0 and parameters: {}. Best is trial 0 with value: 0.0.\n",
      "[I 2025-02-28 13:34:55,632] Trial 15 finished with value: 0.0 and parameters: {}. Best is trial 0 with value: 0.0.\n",
      "[I 2025-02-28 13:34:55,632] Trial 16 finished with value: 0.0 and parameters: {}. Best is trial 0 with value: 0.0.\n",
      "[I 2025-02-28 13:34:55,633] Trial 17 finished with value: 0.0 and parameters: {}. Best is trial 0 with value: 0.0.\n",
      "[I 2025-02-28 13:34:55,636] Trial 18 finished with value: 0.0 and parameters: {}. Best is trial 0 with value: 0.0.\n",
      "[I 2025-02-28 13:34:55,636] Trial 19 finished with value: 0.0 and parameters: {}. Best is trial 0 with value: 0.0.\n"
     ]
    }
   ],
   "source": [
    "\n",
    "def objective(trial):\n",
    "\n",
    "\n",
    "    best_ess = 0 \n",
    "   \n",
    "\n",
    "    return best_ess \n",
    "study = optuna.create_study(direction='maximize', sampler=optunahub.load_module(\"samplers/auto_sampler\").AutoSampler()) \n",
    "study.optimize(objective, n_trials=20)  "
   ]
  },
  {
   "cell_type": "code",
   "execution_count": null,
   "id": "62537e4d",
   "metadata": {},
   "outputs": [],
   "source": []
  }
 ],
 "metadata": {
  "kernelspec": {
   "display_name": "Python 3",
   "language": "python",
   "name": "python3"
  },
  "language_info": {
   "codemirror_mode": {
    "name": "ipython",
    "version": 3
   },
   "file_extension": ".py",
   "mimetype": "text/x-python",
   "name": "python",
   "nbconvert_exporter": "python",
   "pygments_lexer": "ipython3",
   "version": "3.8.10"
  }
 },
 "nbformat": 4,
 "nbformat_minor": 5
}
